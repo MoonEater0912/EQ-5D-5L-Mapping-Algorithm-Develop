{
 "cells": [
  {
   "cell_type": "code",
   "execution_count": 2,
   "metadata": {
    "vscode": {
     "languageId": "r"
    }
   },
   "outputs": [
    {
     "data": {
      "text/html": [
       "<style>\n",
       ".list-inline {list-style: none; margin:0; padding: 0}\n",
       ".list-inline>li {display: inline-block}\n",
       ".list-inline>li:not(:last-child)::after {content: \"\\00b7\"; padding: 0 .5ex}\n",
       "</style>\n",
       "<ol class=list-inline><li>69592</li><li>4</li></ol>\n"
      ],
      "text/latex": [
       "\\begin{enumerate*}\n",
       "\\item 69592\n",
       "\\item 4\n",
       "\\end{enumerate*}\n"
      ],
      "text/markdown": [
       "1. 69592\n",
       "2. 4\n",
       "\n",
       "\n"
      ],
      "text/plain": [
       "[1] 69592     4"
      ]
     },
     "metadata": {},
     "output_type": "display_data"
    },
    {
     "data": {
      "text/plain": [
       "     study        treatment              wave            ssm       \n",
       " Min.   :1.000   Length:69592       Min.   :1.000   Min.   :1.000  \n",
       " 1st Qu.:1.000   Class :character   1st Qu.:2.000   1st Qu.:1.000  \n",
       " Median :1.000   Mode  :character   Median :4.000   Median :3.000  \n",
       " Mean   :1.149                      Mean   :3.753   Mean   :3.107  \n",
       " 3rd Qu.:1.000                      3rd Qu.:5.000   3rd Qu.:5.000  \n",
       " Max.   :2.000                      Max.   :7.000   Max.   :5.000  "
      ]
     },
     "metadata": {},
     "output_type": "display_data"
    }
   ],
   "source": [
    "dt <- read.csv(\"E:\\\\Study\\\\Quantitative Social Science\\\\Data\\\\CAUSALITY\\\\gay.csv\")\n",
    "dim(dt)\n",
    "summary(dt)"
   ]
  },
  {
   "cell_type": "code",
   "execution_count": null,
   "metadata": {
    "vscode": {
     "languageId": "r"
    }
   },
   "outputs": [],
   "source": []
  }
 ],
 "metadata": {
  "kernelspec": {
   "display_name": "R",
   "language": "R",
   "name": "ir"
  },
  "language_info": {
   "codemirror_mode": "r",
   "file_extension": ".r",
   "mimetype": "text/x-r-source",
   "name": "R",
   "pygments_lexer": "r",
   "version": "4.4.1"
  }
 },
 "nbformat": 4,
 "nbformat_minor": 2
}
