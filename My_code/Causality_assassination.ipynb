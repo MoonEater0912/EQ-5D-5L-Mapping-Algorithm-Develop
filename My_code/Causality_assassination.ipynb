{
 "cells": [
  {
   "cell_type": "code",
   "execution_count": 2,
   "metadata": {
    "vscode": {
     "languageId": "r"
    }
   },
   "outputs": [
    {
     "data": {
      "text/html": [
       "<style>\n",
       ".list-inline {list-style: none; margin:0; padding: 0}\n",
       ".list-inline>li {display: inline-block}\n",
       ".list-inline>li:not(:last-child)::after {content: \"\\00b7\"; padding: 0 .5ex}\n",
       "</style>\n",
       "<ol class=list-inline><li>250</li><li>11</li></ol>\n"
      ],
      "text/latex": [
       "\\begin{enumerate*}\n",
       "\\item 250\n",
       "\\item 11\n",
       "\\end{enumerate*}\n"
      ],
      "text/markdown": [
       "1. 250\n",
       "2. 11\n",
       "\n",
       "\n"
      ],
      "text/plain": [
       "[1] 250  11"
      ]
     },
     "metadata": {},
     "output_type": "display_data"
    },
    {
     "data": {
      "text/plain": [
       "      year        country           leadername             age       \n",
       " Min.   :1878   Length:250         Length:250         Min.   :18.00  \n",
       " 1st Qu.:1920   Class :character   Class :character   1st Qu.:45.00  \n",
       " Median :1949   Mode  :character   Mode  :character   Median :52.50  \n",
       " Mean   :1945                                         Mean   :53.52  \n",
       " 3rd Qu.:1972                                         3rd Qu.:61.75  \n",
       " Max.   :2001                                         Max.   :81.00  \n",
       "  politybefore      polityafter      interwarbefore  interwarafter  \n",
       " Min.   :-10.000   Min.   :-10.000   Min.   :0.000   Min.   :0.000  \n",
       " 1st Qu.: -7.000   1st Qu.: -7.000   1st Qu.:0.000   1st Qu.:0.000  \n",
       " Median : -3.000   Median : -3.167   Median :0.000   Median :0.000  \n",
       " Mean   : -1.519   Mean   : -1.650   Mean   :0.188   Mean   :0.148  \n",
       " 3rd Qu.:  4.000   3rd Qu.:  3.917   3rd Qu.:0.000   3rd Qu.:0.000  \n",
       " Max.   : 10.000   Max.   : 10.000   Max.   :1.000   Max.   :1.000  \n",
       " civilwarbefore  civilwarafter      result         \n",
       " Min.   :0.000   Min.   :0.000   Length:250        \n",
       " 1st Qu.:0.000   1st Qu.:0.000   Class :character  \n",
       " Median :0.000   Median :0.000   Mode  :character  \n",
       " Mean   :0.216   Mean   :0.184                     \n",
       " 3rd Qu.:0.000   3rd Qu.:0.000                     \n",
       " Max.   :1.000   Max.   :1.000                     "
      ]
     },
     "metadata": {},
     "output_type": "display_data"
    }
   ],
   "source": [
    "df = read.csv(\"E:\\\\Study\\\\Quantitative_Social_Science\\\\Data\\\\CAUSALITY\\\\leaders.csv\")\n",
    "dim(df)\n",
    "summary(df)"
   ]
  },
  {
   "cell_type": "markdown",
   "metadata": {},
   "source": [
    "## Question 1"
   ]
  },
  {
   "cell_type": "code",
   "execution_count": 4,
   "metadata": {
    "vscode": {
     "languageId": "r"
    }
   },
   "outputs": [
    {
     "name": "stdout",
     "output_type": "stream",
     "text": [
      "[1] \"There are 250 assassination attempts.\"\n",
      "[1] \"The number of countries is 88\"\n"
     ]
    }
   ],
   "source": [
    "num_country <- length(unique(df$country))\n",
    "\n",
    "print(\"There are 250 assassination attempts.\")\n",
    "print(paste(\"The number of countries is\", num_country))\n"
   ]
  },
  {
   "cell_type": "code",
   "execution_count": 15,
   "metadata": {
    "vscode": {
     "languageId": "r"
    }
   },
   "outputs": [
    {
     "name": "stdout",
     "output_type": "stream",
     "text": [
      "[1] \"The average number of results by year is 1.99019607843137\"\n"
     ]
    }
   ],
   "source": [
    "cal <- function(x) length(unique(x))\n",
    "\n",
    "avg_res <- mean(aggregate(result ~ year, data = df, cal)$result)\n",
    "print(paste(\"The average number of results by year is\", avg_res))"
   ]
  },
  {
   "cell_type": "markdown",
   "metadata": {},
   "source": [
    "## Question 2"
   ]
  },
  {
   "cell_type": "code",
   "execution_count": 16,
   "metadata": {
    "vscode": {
     "languageId": "r"
    }
   },
   "outputs": [
    {
     "data": {
      "text/html": [
       "<style>\n",
       ".list-inline {list-style: none; margin:0; padding: 0}\n",
       ".list-inline>li {display: inline-block}\n",
       ".list-inline>li:not(:last-child)::after {content: \"\\00b7\"; padding: 0 .5ex}\n",
       "</style>\n",
       "<ol class=list-inline><li>'not wounded'</li><li>'dies within a day after the attack'</li><li>'survives, whether wounded unknown'</li><li>'wounded lightly'</li><li>'plot stopped'</li><li>'hospitalization but no permanent disability'</li><li>'dies between a day and a week'</li><li>'dies, timing unknown'</li><li>'survives but wounded severely'</li><li>'dies between a week and a month'</li></ol>\n"
      ],
      "text/latex": [
       "\\begin{enumerate*}\n",
       "\\item 'not wounded'\n",
       "\\item 'dies within a day after the attack'\n",
       "\\item 'survives, whether wounded unknown'\n",
       "\\item 'wounded lightly'\n",
       "\\item 'plot stopped'\n",
       "\\item 'hospitalization but no permanent disability'\n",
       "\\item 'dies between a day and a week'\n",
       "\\item 'dies, timing unknown'\n",
       "\\item 'survives but wounded severely'\n",
       "\\item 'dies between a week and a month'\n",
       "\\end{enumerate*}\n"
      ],
      "text/markdown": [
       "1. 'not wounded'\n",
       "2. 'dies within a day after the attack'\n",
       "3. 'survives, whether wounded unknown'\n",
       "4. 'wounded lightly'\n",
       "5. 'plot stopped'\n",
       "6. 'hospitalization but no permanent disability'\n",
       "7. 'dies between a day and a week'\n",
       "8. 'dies, timing unknown'\n",
       "9. 'survives but wounded severely'\n",
       "10. 'dies between a week and a month'\n",
       "\n",
       "\n"
      ],
      "text/plain": [
       " [1] \"not wounded\"                                \n",
       " [2] \"dies within a day after the attack\"         \n",
       " [3] \"survives, whether wounded unknown\"          \n",
       " [4] \"wounded lightly\"                            \n",
       " [5] \"plot stopped\"                               \n",
       " [6] \"hospitalization but no permanent disability\"\n",
       " [7] \"dies between a day and a week\"              \n",
       " [8] \"dies, timing unknown\"                       \n",
       " [9] \"survives but wounded severely\"              \n",
       "[10] \"dies between a week and a month\"            "
      ]
     },
     "metadata": {},
     "output_type": "display_data"
    }
   ],
   "source": [
    "unique(df$result)"
   ]
  },
  {
   "cell_type": "code",
   "execution_count": 27,
   "metadata": {
    "vscode": {
     "languageId": "r"
    }
   },
   "outputs": [],
   "source": [
    "success <- c()\n",
    "\n",
    "for (i in 1:250){\n",
    "    success <- c(success, length(grep(\"die\", df[i, ]$result)) > 0)\n",
    "}\n",
    "\n",
    "df$success <- as.integer(success)"
   ]
  },
  {
   "cell_type": "code",
   "execution_count": 28,
   "metadata": {
    "vscode": {
     "languageId": "r"
    }
   },
   "outputs": [
    {
     "data": {
      "text/plain": [
       "      year        country           leadername             age       \n",
       " Min.   :1878   Length:250         Length:250         Min.   :18.00  \n",
       " 1st Qu.:1920   Class :character   Class :character   1st Qu.:45.00  \n",
       " Median :1949   Mode  :character   Mode  :character   Median :52.50  \n",
       " Mean   :1945                                         Mean   :53.52  \n",
       " 3rd Qu.:1972                                         3rd Qu.:61.75  \n",
       " Max.   :2001                                         Max.   :81.00  \n",
       "  politybefore      polityafter      interwarbefore  interwarafter  \n",
       " Min.   :-10.000   Min.   :-10.000   Min.   :0.000   Min.   :0.000  \n",
       " 1st Qu.: -7.000   1st Qu.: -7.000   1st Qu.:0.000   1st Qu.:0.000  \n",
       " Median : -3.000   Median : -3.167   Median :0.000   Median :0.000  \n",
       " Mean   : -1.519   Mean   : -1.650   Mean   :0.188   Mean   :0.148  \n",
       " 3rd Qu.:  4.000   3rd Qu.:  3.917   3rd Qu.:0.000   3rd Qu.:0.000  \n",
       " Max.   : 10.000   Max.   : 10.000   Max.   :1.000   Max.   :1.000  \n",
       " civilwarbefore  civilwarafter      result             success     \n",
       " Min.   :0.000   Min.   :0.000   Length:250         Min.   :0.000  \n",
       " 1st Qu.:0.000   1st Qu.:0.000   Class :character   1st Qu.:0.000  \n",
       " Median :0.000   Median :0.000   Mode  :character   Median :0.000  \n",
       " Mean   :0.216   Mean   :0.184                      Mean   :0.216  \n",
       " 3rd Qu.:0.000   3rd Qu.:0.000                      3rd Qu.:0.000  \n",
       " Max.   :1.000   Max.   :1.000                      Max.   :1.000  "
      ]
     },
     "metadata": {},
     "output_type": "display_data"
    }
   ],
   "source": [
    "summary(df)"
   ]
  },
  {
   "cell_type": "markdown",
   "metadata": {},
   "source": [
    "The rate of success is about 21.6%. This doen't mean that the success of attempts is randomly distributed, we need to check if other variables can impact the result."
   ]
  },
  {
   "cell_type": "markdown",
   "metadata": {},
   "source": [
    "## Question 3"
   ]
  },
  {
   "cell_type": "code",
   "execution_count": 29,
   "metadata": {
    "vscode": {
     "languageId": "r"
    }
   },
   "outputs": [
    {
     "data": {
      "text/html": [
       "1.03949357520786"
      ],
      "text/latex": [
       "1.03949357520786"
      ],
      "text/markdown": [
       "1.03949357520786"
      ],
      "text/plain": [
       "[1] 1.039494"
      ]
     },
     "metadata": {},
     "output_type": "display_data"
    }
   ],
   "source": [
    "mean(df[df$success == 1, ]$politybefore) - mean(df[df$success == 0, ]$politybefore)"
   ]
  },
  {
   "cell_type": "code",
   "execution_count": 30,
   "metadata": {
    "vscode": {
     "languageId": "r"
    }
   },
   "outputs": [
    {
     "data": {
      "text/plain": [
       "\n",
       "\tWilcoxon rank sum test with continuity correction\n",
       "\n",
       "data:  politybefore by success\n",
       "W = 4792, p-value = 0.2875\n",
       "alternative hypothesis: true location shift is not equal to 0\n"
      ]
     },
     "metadata": {},
     "output_type": "display_data"
    }
   ],
   "source": [
    "wilcox.test(politybefore ~ success, data = df)"
   ]
  },
  {
   "cell_type": "code",
   "execution_count": 31,
   "metadata": {
    "vscode": {
     "languageId": "r"
    }
   },
   "outputs": [
    {
     "data": {
      "text/html": [
       "3.74867724867725"
      ],
      "text/latex": [
       "3.74867724867725"
      ],
      "text/markdown": [
       "3.74867724867725"
      ],
      "text/plain": [
       "[1] 3.748677"
      ]
     },
     "metadata": {},
     "output_type": "display_data"
    }
   ],
   "source": [
    "mean(df[df$success == 1, ]$age) - mean(df[df$success == 0, ]$age)"
   ]
  },
  {
   "cell_type": "code",
   "execution_count": 35,
   "metadata": {
    "vscode": {
     "languageId": "r"
    }
   },
   "outputs": [
    {
     "data": {
      "text/plain": [
       "\n",
       "\tWilcoxon rank sum test with continuity correction\n",
       "\n",
       "data:  age by success\n",
       "W = 4279, p-value = 0.03134\n",
       "alternative hypothesis: true location shift is not equal to 0\n"
      ]
     },
     "metadata": {},
     "output_type": "display_data"
    }
   ],
   "source": [
    "wilcox.test(age ~ success, data = df)"
   ]
  },
  {
   "cell_type": "markdown",
   "metadata": {},
   "source": [
    "There's no statistically significant difference in politybefore score between success and failed attempts.\n",
    "\n",
    "However, it is significant that the success rate is higher for older leaders, which means the success of assassination might not be a event essentially random."
   ]
  },
  {
   "cell_type": "markdown",
   "metadata": {},
   "source": [
    "## Question 4"
   ]
  },
  {
   "cell_type": "code",
   "execution_count": 38,
   "metadata": {
    "vscode": {
     "languageId": "r"
    }
   },
   "outputs": [],
   "source": [
    "warbefore <- c()\n",
    "\n",
    "for (i in 1:250){\n",
    "    iswar <- df[i, ]$interwarbefore == 1 | df[i, ]$civilwarbefore == 1\n",
    "    warbefore <- c(warbefore, iswar)\n",
    "}\n",
    "\n",
    "df$warbefore <- as.integer(warbefore)"
   ]
  },
  {
   "cell_type": "code",
   "execution_count": 39,
   "metadata": {
    "vscode": {
     "languageId": "r"
    }
   },
   "outputs": [
    {
     "data": {
      "text/html": [
       "-0.0205971277399849"
      ],
      "text/latex": [
       "-0.0205971277399849"
      ],
      "text/markdown": [
       "-0.0205971277399849"
      ],
      "text/plain": [
       "[1] -0.02059713"
      ]
     },
     "metadata": {},
     "output_type": "display_data"
    }
   ],
   "source": [
    "mean(df[df$success == 1, ]$warbefore) - mean(df[df$success == 0, ]$warbefore)"
   ]
  },
  {
   "cell_type": "code",
   "execution_count": 40,
   "metadata": {
    "vscode": {
     "languageId": "r"
    }
   },
   "outputs": [
    {
     "data": {
      "text/plain": [
       "\n",
       "\tWelch Two Sample t-test\n",
       "\n",
       "data:  warbefore by success\n",
       "t = 0.27769, df = 84.851, p-value = 0.7819\n",
       "alternative hypothesis: true difference in means between group 0 and group 1 is not equal to 0\n",
       "95 percent confidence interval:\n",
       " -0.1268805  0.1680747\n",
       "sample estimates:\n",
       "mean in group 0 mean in group 1 \n",
       "      0.3724490       0.3518519 \n"
      ]
     },
     "metadata": {},
     "output_type": "display_data"
    }
   ],
   "source": [
    "t.test(warbefore ~ success, data = df)"
   ]
  },
  {
   "cell_type": "markdown",
   "metadata": {},
   "source": [
    "There's no significant difference regarding warbefore between success and failed attempts, which means the fact there was a war three-year prior to the attempt wouldn't impact the success rate of that attempt."
   ]
  },
  {
   "cell_type": "markdown",
   "metadata": {},
   "source": [
    "## Question 5"
   ]
  },
  {
   "cell_type": "code",
   "execution_count": 41,
   "metadata": {
    "vscode": {
     "languageId": "r"
    }
   },
   "outputs": [
    {
     "data": {
      "text/html": [
       "1.13221214411691"
      ],
      "text/latex": [
       "1.13221214411691"
      ],
      "text/markdown": [
       "1.13221214411691"
      ],
      "text/plain": [
       "[1] 1.132212"
      ]
     },
     "metadata": {},
     "output_type": "display_data"
    }
   ],
   "source": [
    "mean(df[df$success == 1, ]$polityafter) - mean(df[df$success == 0, ]$polityafter)"
   ]
  },
  {
   "cell_type": "code",
   "execution_count": 44,
   "metadata": {
    "vscode": {
     "languageId": "r"
    }
   },
   "outputs": [
    {
     "data": {
      "text/plain": [
       "\n",
       "\tWilcoxon rank sum test with continuity correction\n",
       "\n",
       "data:  polityafter by success\n",
       "W = 4651, p-value = 0.1727\n",
       "alternative hypothesis: true location shift is not equal to 0\n"
      ]
     },
     "metadata": {},
     "output_type": "display_data"
    }
   ],
   "source": [
    "wilcox.test(polityafter ~ success, data = df)"
   ]
  },
  {
   "cell_type": "code",
   "execution_count": 45,
   "metadata": {
    "vscode": {
     "languageId": "r"
    }
   },
   "outputs": [
    {
     "data": {
      "text/html": [
       "-0.0922146636432351"
      ],
      "text/latex": [
       "-0.0922146636432351"
      ],
      "text/markdown": [
       "-0.0922146636432351"
      ],
      "text/plain": [
       "[1] -0.09221466"
      ]
     },
     "metadata": {},
     "output_type": "display_data"
    }
   ],
   "source": [
    "warafter <- c()\n",
    "\n",
    "for (i in 1:250){\n",
    "    iswar <- df[i, ]$interwarafter == 1 | df[i, ]$civilwarafter == 1\n",
    "    warafter <- c(warafter, iswar)\n",
    "}\n",
    "\n",
    "df$warafter <- as.integer(warafter)\n",
    "\n",
    "mean(df[df$success == 1, ]$warafter) - mean(df[df$success == 0, ]$warafter)"
   ]
  },
  {
   "cell_type": "code",
   "execution_count": 46,
   "metadata": {
    "vscode": {
     "languageId": "r"
    }
   },
   "outputs": [
    {
     "data": {
      "text/plain": [
       "\n",
       "\tWelch Two Sample t-test\n",
       "\n",
       "data:  warafter by success\n",
       "t = 1.4351, df = 93.372, p-value = 0.1546\n",
       "alternative hypothesis: true difference in means between group 0 and group 1 is not equal to 0\n",
       "95 percent confidence interval:\n",
       " -0.03538093  0.21981026\n",
       "sample estimates:\n",
       "mean in group 0 mean in group 1 \n",
       "      0.2959184       0.2037037 \n"
      ]
     },
     "metadata": {},
     "output_type": "display_data"
    }
   ],
   "source": [
    "t.test(warafter ~ success, data = df)"
   ]
  },
  {
   "cell_type": "markdown",
   "metadata": {},
   "source": [
    "Successful assassination can slightly reduce the probability of war three-year after the attempt. Successful assassination seems to have no influence on the democracy score."
   ]
  },
  {
   "cell_type": "code",
   "execution_count": null,
   "metadata": {
    "vscode": {
     "languageId": "r"
    }
   },
   "outputs": [],
   "source": []
  }
 ],
 "metadata": {
  "kernelspec": {
   "display_name": "R",
   "language": "R",
   "name": "ir"
  },
  "language_info": {
   "codemirror_mode": "r",
   "file_extension": ".r",
   "mimetype": "text/x-r-source",
   "name": "R",
   "pygments_lexer": "r",
   "version": "4.4.1"
  }
 },
 "nbformat": 4,
 "nbformat_minor": 2
}
