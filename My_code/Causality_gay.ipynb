{
 "cells": [
  {
   "cell_type": "code",
   "execution_count": 88,
   "metadata": {
    "vscode": {
     "languageId": "r"
    }
   },
   "outputs": [
    {
     "data": {
      "text/html": [
       "<style>\n",
       ".list-inline {list-style: none; margin:0; padding: 0}\n",
       ".list-inline>li {display: inline-block}\n",
       ".list-inline>li:not(:last-child)::after {content: \"\\00b7\"; padding: 0 .5ex}\n",
       "</style>\n",
       "<ol class=list-inline><li>69592</li><li>4</li></ol>\n"
      ],
      "text/latex": [
       "\\begin{enumerate*}\n",
       "\\item 69592\n",
       "\\item 4\n",
       "\\end{enumerate*}\n"
      ],
      "text/markdown": [
       "1. 69592\n",
       "2. 4\n",
       "\n",
       "\n"
      ],
      "text/plain": [
       "[1] 69592     4"
      ]
     },
     "metadata": {},
     "output_type": "display_data"
    },
    {
     "data": {
      "text/plain": [
       "     study        treatment              wave            ssm       \n",
       " Min.   :1.000   Length:69592       Min.   :1.000   Min.   :1.000  \n",
       " 1st Qu.:1.000   Class :character   1st Qu.:2.000   1st Qu.:1.000  \n",
       " Median :1.000   Mode  :character   Median :4.000   Median :3.000  \n",
       " Mean   :1.149                      Mean   :3.753   Mean   :3.107  \n",
       " 3rd Qu.:1.000                      3rd Qu.:5.000   3rd Qu.:5.000  \n",
       " Max.   :2.000                      Max.   :7.000   Max.   :5.000  "
      ]
     },
     "metadata": {},
     "output_type": "display_data"
    }
   ],
   "source": [
    "dt <- read.csv(\"E:\\\\Study\\\\Quantitative_Social_Science\\\\Data\\\\CAUSALITY\\\\gay.csv\")\n",
    "dim(dt)\n",
    "summary(dt)"
   ]
  },
  {
   "cell_type": "code",
   "execution_count": 89,
   "metadata": {
    "vscode": {
     "languageId": "r"
    }
   },
   "outputs": [
    {
     "data": {
      "text/html": [
       "<style>\n",
       ".list-inline {list-style: none; margin:0; padding: 0}\n",
       ".list-inline>li {display: inline-block}\n",
       ".list-inline>li:not(:last-child)::after {content: \"\\00b7\"; padding: 0 .5ex}\n",
       "</style>\n",
       "<ol class=list-inline><li>'study'</li><li>'treatment'</li><li>'wave'</li><li>'ssm'</li></ol>\n"
      ],
      "text/latex": [
       "\\begin{enumerate*}\n",
       "\\item 'study'\n",
       "\\item 'treatment'\n",
       "\\item 'wave'\n",
       "\\item 'ssm'\n",
       "\\end{enumerate*}\n"
      ],
      "text/markdown": [
       "1. 'study'\n",
       "2. 'treatment'\n",
       "3. 'wave'\n",
       "4. 'ssm'\n",
       "\n",
       "\n"
      ],
      "text/plain": [
       "[1] \"study\"     \"treatment\" \"wave\"      \"ssm\"      "
      ]
     },
     "metadata": {},
     "output_type": "display_data"
    }
   ],
   "source": [
    "names(dt)"
   ]
  },
  {
   "cell_type": "code",
   "execution_count": 90,
   "metadata": {
    "vscode": {
     "languageId": "r"
    }
   },
   "outputs": [
    {
     "name": "stdout",
     "output_type": "stream",
     "text": [
      "[1] \"No Contact\"                                    \n",
      "[2] \"Recycling Script by Gay Canvasser\"             \n",
      "[3] \"Same-Sex Marriage Script by Gay Canvasser\"     \n",
      "[4] \"Recycling Script by Straight Canvasser\"        \n",
      "[5] \"Same-Sex Marriage Script by Straight Canvasser\"\n"
     ]
    }
   ],
   "source": [
    "print(unique(dt$treatment))"
   ]
  },
  {
   "cell_type": "code",
   "execution_count": 91,
   "metadata": {
    "vscode": {
     "languageId": "r"
    }
   },
   "outputs": [],
   "source": [
    "dt$treatment_recoded <- ifelse(dt$treatment == \"No Contact\", \"NC\", ifelse(\n",
    "    dt$treatment == \"Recycling Script by Gay Canvasser\", \"RGay\", ifelse(\n",
    "        dt$treatment == \"Same-Sex Marriage Script by Gay Canvasser\", \"SGay\", ifelse(\n",
    "            dt$treatment == \"Recycling Script by Straight Canvasser\", \"RStraight\", \"SStraight\"\n",
    "        )\n",
    "    )))"
   ]
  },
  {
   "cell_type": "markdown",
   "metadata": {},
   "source": [
    "## Question 1"
   ]
  },
  {
   "cell_type": "code",
   "execution_count": 92,
   "metadata": {
    "vscode": {
     "languageId": "r"
    }
   },
   "outputs": [
    {
     "data": {
      "text/plain": [
       "\n",
       "\tWelch Two Sample t-test\n",
       "\n",
       "data:  baseline_interview[baseline_interview$treatment_recoded == \"NC\", ]$ssm and baseline_interview[baseline_interview$treatment_recoded == \"SStraight\", ]$ssm\n",
       "t = -0.99418, df = 1466.6, p-value = 0.3203\n",
       "alternative hypothesis: true difference in means is not equal to 0\n",
       "95 percent confidence interval:\n",
       " -0.16930136  0.05541102\n",
       "sample estimates:\n",
       "mean of x mean of y \n",
       " 3.042764  3.099710 \n"
      ]
     },
     "metadata": {},
     "output_type": "display_data"
    },
    {
     "data": {
      "text/plain": [
       "\n",
       "\tWelch Two Sample t-test\n",
       "\n",
       "data:  baseline_interview[baseline_interview$treatment_recoded == \"NC\", ]$ssm and baseline_interview[baseline_interview$treatment_recoded == \"SGay\", ]$ssm\n",
       "t = 0.32342, df = 1703, p-value = 0.7464\n",
       "alternative hypothesis: true difference in means is not equal to 0\n",
       "95 percent confidence interval:\n",
       " -0.08897624  0.12411410\n",
       "sample estimates:\n",
       "mean of x mean of y \n",
       " 3.042764  3.025195 \n"
      ]
     },
     "metadata": {},
     "output_type": "display_data"
    },
    {
     "data": {
      "text/plain": [
       "\n",
       "\tWilcoxon rank sum test with continuity correction\n",
       "\n",
       "data:  baseline_interview[baseline_interview$treatment_recoded == \"NC\", ]$ssm and baseline_interview[baseline_interview$treatment_recoded == \"SStraight\", ]$ssm\n",
       "W = 2647196, p-value = 0.2558\n",
       "alternative hypothesis: true location shift is not equal to 0\n"
      ]
     },
     "metadata": {},
     "output_type": "display_data"
    },
    {
     "data": {
      "text/plain": [
       "\n",
       "\tWilcoxon rank sum test with continuity correction\n",
       "\n",
       "data:  baseline_interview[baseline_interview$treatment_recoded == \"NC\", ]$ssm and baseline_interview[baseline_interview$treatment_recoded == \"SGay\", ]$ssm\n",
       "W = 3038051, p-value = 0.6659\n",
       "alternative hypothesis: true location shift is not equal to 0\n"
      ]
     },
     "metadata": {},
     "output_type": "display_data"
    }
   ],
   "source": [
    "baseline_interview <- dt[dt$study == 1 & dt$wave == 1,]\n",
    "t.test(baseline_interview[baseline_interview$treatment_recoded == \"NC\",]$ssm, baseline_interview[baseline_interview$treatment_recoded == \"SStraight\",]$ssm)\n",
    "t.test(baseline_interview[baseline_interview$treatment_recoded == \"NC\",]$ssm, baseline_interview[baseline_interview$treatment_recoded == \"SGay\",]$ssm)\n",
    "wilcox.test(baseline_interview[baseline_interview$treatment_recoded == \"NC\",]$ssm, baseline_interview[baseline_interview$treatment_recoded == \"SStraight\",]$ssm)\n",
    "wilcox.test(baseline_interview[baseline_interview$treatment_recoded == \"NC\",]$ssm, baseline_interview[baseline_interview$treatment_recoded == \"SGay\",]$ssm)"
   ]
  },
  {
   "cell_type": "markdown",
   "metadata": {},
   "source": [
    "As can be seen, especially from the results of Wilcox test (as it is more suitable for ordered discrete data than t test), there's no significant difference among these three pre-treatment groups, which indicates that the randomization was propbably properly conducted.\n",
    "\n",
    "Given that we need to test difference of a discrete variable among three groups, we can also use Chi-sq test. "
   ]
  },
  {
   "cell_type": "code",
   "execution_count": 93,
   "metadata": {
    "vscode": {
     "languageId": "r"
    }
   },
   "outputs": [
    {
     "data": {
      "text/plain": [
       "\n",
       "\tPearson's Chi-squared test\n",
       "\n",
       "data:  baseline_interview$treatment_recoded and baseline_interview$ssm\n",
       "X-squared = 14.25, df = 16, p-value = 0.5801\n"
      ]
     },
     "metadata": {},
     "output_type": "display_data"
    }
   ],
   "source": [
    "chisq.test(baseline_interview$treatment_recoded, baseline_interview$ssm)"
   ]
  },
  {
   "cell_type": "markdown",
   "metadata": {},
   "source": [
    "## Question 2"
   ]
  },
  {
   "cell_type": "code",
   "execution_count": 94,
   "metadata": {
    "vscode": {
     "languageId": "r"
    }
   },
   "outputs": [
    {
     "data": {
      "text/plain": [
       "     study        treatment              wave            ssm       \n",
       " Min.   :1.000   Length:69592       Min.   :1.000   Min.   :1.000  \n",
       " 1st Qu.:1.000   Class :character   1st Qu.:2.000   1st Qu.:1.000  \n",
       " Median :1.000   Mode  :character   Median :4.000   Median :3.000  \n",
       " Mean   :1.149                      Mean   :3.753   Mean   :3.107  \n",
       " 3rd Qu.:1.000                      3rd Qu.:5.000   3rd Qu.:5.000  \n",
       " Max.   :2.000                      Max.   :7.000   Max.   :5.000  \n",
       " treatment_recoded \n",
       " Length:69592      \n",
       " Class :character  \n",
       " Mode  :character  \n",
       "                   \n",
       "                   \n",
       "                   "
      ]
     },
     "metadata": {},
     "output_type": "display_data"
    }
   ],
   "source": [
    "summary(dt)"
   ]
  },
  {
   "cell_type": "code",
   "execution_count": 95,
   "metadata": {
    "vscode": {
     "languageId": "r"
    }
   },
   "outputs": [
    {
     "name": "stdout",
     "output_type": "stream",
     "text": [
      "[1] \"The ATE of Straight group is  0.0653027968500943\"\n",
      "[1] \"The ATE of Gay group is  0.117443565180214\"\n"
     ]
    }
   ],
   "source": [
    "two_months_after <- dt[dt$study == 1 & dt$wave == 2, ] \n",
    "\n",
    "dif_nc <- mean(two_months_after[two_months_after$treatment_recoded == 'NC', ]$ssm) - mean(baseline_interview[baseline_interview$treatment_recoded == 'NC', ]$ssm)\n",
    "\n",
    "ATE_straight <- mean(two_months_after[two_months_after$treatment_recoded == 'SStraight', ]$ssm) - mean(baseline_interview[baseline_interview$treatment_recoded == 'SStraight', ]$ssm) - dif_nc\n",
    "ATE_gay <- mean(two_months_after[two_months_after$treatment_recoded == 'SGay', ]$ssm) - mean(baseline_interview[baseline_interview$treatment_recoded == 'SGay', ]$ssm) - dif_nc\n",
    "\n",
    "print(paste(\"The ATE of Straight group is \", ATE_straight))\n",
    "print(paste(\"The ATE of Gay group is \", ATE_gay))"
   ]
  },
  {
   "cell_type": "markdown",
   "metadata": {},
   "source": [
    "The difference indicates that the effect of canvassing was better (almost twice) when the canvasser was gay."
   ]
  },
  {
   "cell_type": "markdown",
   "metadata": {},
   "source": [
    "## Question 3"
   ]
  },
  {
   "cell_type": "code",
   "execution_count": 96,
   "metadata": {
    "vscode": {
     "languageId": "r"
    }
   },
   "outputs": [
    {
     "name": "stdout",
     "output_type": "stream",
     "text": [
      "[1] \"The ATE of Straight group is  -0.00604656696954109\"\n",
      "[1] \"The ATE of Gay group is  -0.0203784820222062\"\n"
     ]
    }
   ],
   "source": [
    "ATE_straight <- mean(two_months_after[two_months_after$treatment_recoded == 'RStraight', ]$ssm) - mean(baseline_interview[baseline_interview$treatment_recoded == 'RStraight', ]$ssm) - dif_nc\n",
    "ATE_gay <- mean(two_months_after[two_months_after$treatment_recoded == 'RGay', ]$ssm) - mean(baseline_interview[baseline_interview$treatment_recoded == 'RGay', ]$ssm) - dif_nc\n",
    "\n",
    "print(paste(\"The ATE of Straight group is \", ATE_straight))\n",
    "print(paste(\"The ATE of Gay group is \", ATE_gay))"
   ]
  },
  {
   "cell_type": "markdown",
   "metadata": {},
   "source": [
    "This is for proving the machenism that caused the differences when the texts were same-sex:\n",
    "- if the differences when the texts were same-sex are smaller, then the cause of ATE differences when the texts were same-sex is propbably a combination of the gender of canvassers and the texts.\n",
    "- if the differences when the texts were same-sex are similar, then the ATE differences when the texts were same-sex are propbably mainly caused by contact, which means that contact can decrease out-group hostility."
   ]
  },
  {
   "cell_type": "markdown",
   "metadata": {},
   "source": [
    "## Question 4"
   ]
  },
  {
   "cell_type": "code",
   "execution_count": 97,
   "metadata": {
    "vscode": {
     "languageId": "r"
    }
   },
   "outputs": [
    {
     "name": "stdout",
     "output_type": "stream",
     "text": [
      "      index        wave2        wave3      wave4       wave5        wave6\n",
      "1 SStraight  0.065302797  0.003462833 0.03025142  0.04161006  0.006570065\n",
      "2      SGay  0.117443565  0.098935055 0.11019470  0.16546436  0.104004413\n",
      "3 RStraight -0.006046567 -0.052961949 0.01645350 -0.07624599 -0.026097285\n",
      "4      RGay -0.020378482  0.004057905 0.01158062 -0.01001297  0.022029981\n",
      "        wave7\n",
      "1 -0.09948238\n",
      "2  0.07693728\n",
      "3 -0.11848799\n",
      "4  0.02998649\n"
     ]
    }
   ],
   "source": [
    "# Define a function which is to calculate the 4 ATEs -\n",
    "# that of SStraight, SGay, RStraight and RGay\n",
    "cal_ate <- function(wave){\n",
    "    treated_result <- dt[dt$study == 1 & dt$wave == wave, ]\n",
    "\n",
    "    dif_nc <- mean(treated_result[treated_result$treatment_recoded == 'NC', ]$ssm) - mean(baseline_interview[baseline_interview$treatment_recoded == 'NC', ]$ssm)\n",
    "\n",
    "    s_ATE_straight <- mean(treated_result[treated_result$treatment_recoded == 'SStraight', ]$ssm) - mean(baseline_interview[baseline_interview$treatment_recoded == 'SStraight', ]$ssm) - dif_nc\n",
    "    s_ATE_gay <- mean(treated_result[treated_result$treatment_recoded == 'SGay', ]$ssm) - mean(baseline_interview[baseline_interview$treatment_recoded == 'SGay', ]$ssm) - dif_nc\n",
    "    r_ATE_straight <- mean(treated_result[treated_result$treatment_recoded == 'RStraight', ]$ssm) - mean(baseline_interview[baseline_interview$treatment_recoded == 'RStraight', ]$ssm) - dif_nc\n",
    "    r_ATE_gay <- mean(treated_result[treated_result$treatment_recoded == 'RGay', ]$ssm) - mean(baseline_interview[baseline_interview$treatment_recoded == 'RGay', ]$ssm) - dif_nc\n",
    "\n",
    "    return(c(s_ATE_straight, s_ATE_gay, r_ATE_straight, r_ATE_gay))\n",
    "}\n",
    "\n",
    "df <- data.frame(index = c(\"SStraight\", \"SGay\", \"RStraight\", \"RGay\"))\n",
    "\n",
    "for (i in seq(2, 7, 1)){\n",
    "    df[ ,paste(\"wave\", i, sep = '')] <- cal_ate(wave = i)\n",
    "}\n",
    "\n",
    "print(df)"
   ]
  },
  {
   "cell_type": "code",
   "execution_count": 98,
   "metadata": {
    "vscode": {
     "languageId": "r"
    }
   },
   "outputs": [
    {
     "data": {
      "image/png": "[encoded data removed]",
      "text/plain": [
       "Plot with title \"ATEs by waves\""
      ]
     },
     "metadata": {
      "image/png": {
       "height": 420,
       "width": 420
      }
     },
     "output_type": "display_data"
    }
   ],
   "source": [
    "SS <- as.numeric(df[1, 2:7])\n",
    "SG <- as.numeric(df[2, 2:7])\n",
    "RS <- as.numeric(df[3, 2:7])\n",
    "RG <- as.numeric(df[4, 2:7])\n",
    "\n",
    "plot(2:7, SS, type = 'o', col = 'blue', xlab = \"wave\", ylab = \"ATE\",\n",
    "    main = \"ATEs by waves\", ylim = c(-0.2, 0.2))\n",
    "lines(2:7, SG, type = 'o', col = \"red\")\n",
    "lines(2:7, RS, type = \"o\", col = \"blue\", lty = 2)\n",
    "lines(2:7, RG, type = \"o\", col = \"red\", lty = 2)\n"
   ]
  },
  {
   "cell_type": "markdown",
   "metadata": {},
   "source": [
    "Before wave 4, the ATE differences are mainly caused by the texts (the ATEs of RS and RG are all near 0). While after wave 5, the ATE differences are, at least partly, caused by the gender of the canvassers."
   ]
  },
  {
   "cell_type": "markdown",
   "metadata": {},
   "source": [
    "## Question 5"
   ]
  },
  {
   "cell_type": "code",
   "execution_count": 99,
   "metadata": {
    "vscode": {
     "languageId": "r"
    }
   },
   "outputs": [
    {
     "data": {
      "text/plain": [
       "\n",
       "\tWelch Two Sample t-test\n",
       "\n",
       "data:  study2[study2$wave == 1 & study2$treatment_recoded == \"SGay\", ]$ssm and study2[study2$wave == 1 & study2$treatment_recoded == \"NC\", ]$ssm\n",
       "t = 0.024316, df = 2436.5, p-value = 0.9806\n",
       "alternative hypothesis: true difference in means is not equal to 0\n",
       "95 percent confidence interval:\n",
       " -0.1317153  0.1350229\n",
       "sample estimates:\n",
       "mean of x mean of y \n",
       " 2.971729  2.970075 \n"
      ]
     },
     "metadata": {},
     "output_type": "display_data"
    }
   ],
   "source": [
    "study2 <- dt[dt$study == 2,]\n",
    "\n",
    "t.test(study2[study2$wave == 1 & study2$treatment_recoded == \"SGay\", ]$ssm, \n",
    "    study2[study2$wave == 1 & study2$treatment_recoded == \"NC\", ]$ssm)\n"
   ]
  },
  {
   "cell_type": "markdown",
   "metadata": {},
   "source": [
    "According the baseline results of these two studies, I believe that the sampling of study 2 was randomly conducted. Because the mean of two groups are very close to each other, and there're no difference between treatment groups in both studies."
   ]
  },
  {
   "cell_type": "markdown",
   "metadata": {},
   "source": [
    "## Question 6"
   ]
  },
  {
   "cell_type": "code",
   "execution_count": 108,
   "metadata": {
    "vscode": {
     "languageId": "r"
    }
   },
   "outputs": [
    {
     "name": "stdout",
     "output_type": "stream",
     "text": [
      "[1] \"The ATE of study 2 wave 2 SGay group is 0.12223989129479\"\n"
     ]
    }
   ],
   "source": [
    "study2wave1 <- study2[study2$wave == 1, ]\n",
    "study2wave2 <- study2[study2$wave == 2, ]\n",
    "\n",
    "dif_nc <- mean(study2wave2[study2wave2$treatment_recoded == \"NC\", ]$ssm) - mean(study2wave1[study2wave1$treatment_recoded == \"NC\", ]$ssm)\n",
    "dif_sgay <- mean(study2wave2[study2wave2$treatment_recoded == \"SGay\", ]$ssm) - mean(study2wave1[study2wave1$treatment_recoded == \"SGay\", ]$ssm)\n",
    "\n",
    "ate <- dif_sgay - dif_nc\n",
    "print(paste(\"The ATE of study 2 wave 2 SGay group is\", ate))\n"
   ]
  },
  {
   "cell_type": "markdown",
   "metadata": {},
   "source": [
    "Since 0.122 seems to be similar with 0.117, we believe that the results are consistent."
   ]
  },
  {
   "cell_type": "code",
   "execution_count": 114,
   "metadata": {
    "vscode": {
     "languageId": "r"
    }
   },
   "outputs": [
    {
     "data": {
      "text/html": [
       "<style>\n",
       ".list-inline {list-style: none; margin:0; padding: 0}\n",
       ".list-inline>li {display: inline-block}\n",
       ".list-inline>li:not(:last-child)::after {content: \"\\00b7\"; padding: 0 .5ex}\n",
       "</style>\n",
       "<ol class=list-inline><li>0.12223989129479</li><li>0.148766845772866</li><li>0.123520040334277</li><li>0</li><li>0</li><li>0.30540886697495</li></ol>\n"
      ],
      "text/latex": [
       "\\begin{enumerate*}\n",
       "\\item 0.12223989129479\n",
       "\\item 0.148766845772866\n",
       "\\item 0.123520040334277\n",
       "\\item 0\n",
       "\\item 0\n",
       "\\item 0.30540886697495\n",
       "\\end{enumerate*}\n"
      ],
      "text/markdown": [
       "1. 0.12223989129479\n",
       "2. 0.148766845772866\n",
       "3. 0.123520040334277\n",
       "4. 0\n",
       "5. 0\n",
       "6. 0.30540886697495\n",
       "\n",
       "\n"
      ],
      "text/plain": [
       "[1] 0.1222399 0.1487668 0.1235200 0.0000000 0.0000000 0.3054089"
      ]
     },
     "metadata": {},
     "output_type": "display_data"
    }
   ],
   "source": [
    "x = c()\n",
    "\n",
    "for (i in c(2, 3, 4, 7)){\n",
    "    study2wavei <- study2[study2$wave == i, ]\n",
    "    dif_nc <- mean(study2wavei[study2wavei$treatment_recoded == \"NC\", ]$ssm) - mean(study2wave1[study2wave1$treatment_recoded == \"NC\", ]$ssm)\n",
    "    dif_sgay <- mean(study2wavei[study2wavei$treatment_recoded == \"SGay\", ]$ssm) - mean(study2wave1[study2wave1$treatment_recoded == \"SGay\", ]$ssm)\n",
    "    x = c(x, dif_sgay - dif_nc)\n",
    "}\n",
    "\n",
    "x <- append(x, c(0, 0), after = 3) # there're no results in wave 4 and 5 in study 2\n",
    "x"
   ]
  },
  {
   "cell_type": "code",
   "execution_count": 116,
   "metadata": {
    "vscode": {
     "languageId": "r"
    }
   },
   "outputs": [
    {
     "data": {
      "image/png": "[encoded data removed]",
      "text/plain": [
       "Plot with title \"ATEs by waves by studies\""
      ]
     },
     "metadata": {
      "image/png": {
       "height": 420,
       "width": 420
      }
     },
     "output_type": "display_data"
    }
   ],
   "source": [
    "# plot the results together with those in study 1\n",
    "plot(2:7, SG, type = 'o', col = 'blue', xlab = \"wave\", ylab = \"ATE\",\n",
    "    main = \"ATEs by waves by studies\", ylim = c(-0.1, 0.4))\n",
    "lines(2:7, x, type = 'o', col = 'red')"
   ]
  },
  {
   "cell_type": "markdown",
   "metadata": {},
   "source": [
    "Without considering the results of wave 4 and 5, the treatment effects in study 2 seem to be more persistent, which even go much higher after one year."
   ]
  },
  {
   "cell_type": "code",
   "execution_count": null,
   "metadata": {
    "vscode": {
     "languageId": "r"
    }
   },
   "outputs": [],
   "source": []
  }
 ],
 "metadata": {
  "kernelspec": {
   "display_name": "R",
   "language": "R",
   "name": "ir"
  },
  "language_info": {
   "codemirror_mode": "r",
   "file_extension": ".r",
   "mimetype": "text/x-r-source",
   "name": "R",
   "pygments_lexer": "r",
   "version": "4.4.1"
  }
 },
 "nbformat": 4,
 "nbformat_minor": 2
}
