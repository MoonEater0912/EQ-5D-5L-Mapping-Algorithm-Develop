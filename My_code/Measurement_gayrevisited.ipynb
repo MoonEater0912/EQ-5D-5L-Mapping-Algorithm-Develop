{
 "cells": [
  {
   "cell_type": "code",
   "execution_count": 1,
   "metadata": {
    "vscode": {
     "languageId": "r"
    }
   },
   "outputs": [],
   "source": [
    "gay <- read.csv(\"E:\\\\Study\\\\Quantitative_Social_Science\\\\Data\\\\MEASUREMENT\\\\gayreshaped.csv\")\n",
    "ccap <- read.csv(\"E:\\\\Study\\\\Quantitative_Social_Science\\\\Data\\\\MEASUREMENT\\\\ccap2012.csv\")"
   ]
  },
  {
   "cell_type": "code",
   "execution_count": 4,
   "metadata": {
    "vscode": {
     "languageId": "r"
    }
   },
   "outputs": [],
   "source": [
    "gay$treatment_recoded <- ifelse(gay$treatment == \"No Contact\", \"NC\", ifelse(\n",
    "    gay$treatment == \"Recycling Script by Gay Canvasser\", \"RGay\", ifelse(\n",
    "        gay$treatment == \"Same-Sex Marriage Script by Gay Canvasser\", \"SGay\", ifelse(\n",
    "            gay$treatment == \"Recycling Script by Straight Canvasser\", \"RStraight\", \"SStraight\"\n",
    "        )\n",
    "    )))"
   ]
  },
  {
   "cell_type": "code",
   "execution_count": 5,
   "metadata": {
    "vscode": {
     "languageId": "r"
    }
   },
   "outputs": [
    {
     "data": {
      "text/plain": [
       "     study        treatment             therm1           therm2      \n",
       " Min.   :1.000   Length:11948       Min.   :  0.00   Min.   :  0.00  \n",
       " 1st Qu.:1.000   Class :character   1st Qu.: 48.00   1st Qu.: 45.00  \n",
       " Median :1.000   Mode  :character   Median : 52.00   Median : 55.00  \n",
       " Mean   :1.204                      Mean   : 58.43   Mean   : 58.68  \n",
       " 3rd Qu.:1.000                      3rd Qu.: 84.00   3rd Qu.: 84.00  \n",
       " Max.   :2.000                      Max.   :100.00   Max.   :100.00  \n",
       "                                                     NA's   :1351    \n",
       "     therm3           therm4       treatment_recoded \n",
       " Min.   :  0.00   Min.   :  0.00   Length:11948      \n",
       " 1st Qu.: 44.00   1st Qu.: 44.00   Class :character  \n",
       " Median : 57.00   Median : 58.00   Mode  :character  \n",
       " Mean   : 59.72   Mean   : 59.76                     \n",
       " 3rd Qu.: 85.00   3rd Qu.: 85.00                     \n",
       " Max.   :100.00   Max.   :100.00                     \n",
       " NA's   :9835     NA's   :9777                       "
      ]
     },
     "metadata": {},
     "output_type": "display_data"
    }
   ],
   "source": [
    "summary(gay)"
   ]
  },
  {
   "cell_type": "code",
   "execution_count": 3,
   "metadata": {
    "vscode": {
     "languageId": "r"
    }
   },
   "outputs": [
    {
     "data": {
      "text/plain": [
       "       X             caseid          gaytherm     \n",
       " Min.   :    1   Min.   :   1.0   Min.   :  0.00  \n",
       " 1st Qu.:11000   1st Qu.: 251.0   1st Qu.: 45.00  \n",
       " Median :22000   Median : 501.0   Median : 54.00  \n",
       " Mean   :22000   Mean   : 500.5   Mean   : 58.71  \n",
       " 3rd Qu.:32999   3rd Qu.: 751.0   3rd Qu.: 85.00  \n",
       " Max.   :43998   Max.   :1001.0   Max.   :100.00  \n",
       "                                  NA's   :3097    "
      ]
     },
     "metadata": {},
     "output_type": "display_data"
    }
   ],
   "source": [
    "summary(ccap)"
   ]
  },
  {
   "cell_type": "markdown",
   "metadata": {},
   "source": [
    "## Question 1"
   ]
  },
  {
   "cell_type": "code",
   "execution_count": 12,
   "metadata": {
    "vscode": {
     "languageId": "r"
    }
   },
   "outputs": [],
   "source": [
    "gaycontrol <- gay[gay$treatment_recoded == \"NC\", ]"
   ]
  },
  {
   "cell_type": "code",
   "execution_count": 13,
   "metadata": {
    "vscode": {
     "languageId": "r"
    }
   },
   "outputs": [
    {
     "data": {
      "text/html": [
       "0.993153057954584"
      ],
      "text/latex": [
       "0.993153057954584"
      ],
      "text/markdown": [
       "0.993153057954584"
      ],
      "text/plain": [
       "[1] 0.9931531"
      ]
     },
     "metadata": {},
     "output_type": "display_data"
    }
   ],
   "source": [
    "cor(gaycontrol$therm1, gaycontrol$therm2, use = \"complete.obs\")"
   ]
  },
  {
   "cell_type": "markdown",
   "metadata": {},
   "source": [
    "## Question 2"
   ]
  },
  {
   "cell_type": "code",
   "execution_count": 14,
   "metadata": {
    "vscode": {
     "languageId": "r"
    }
   },
   "outputs": [
    {
     "data": {
      "text/html": [
       "<table class=\"dataframe\">\n",
       "<caption>A matrix: 4 × 4 of type dbl</caption>\n",
       "<thead>\n",
       "\t<tr><th></th><th scope=col>gaycontrol.therm1</th><th scope=col>gaycontrol.therm2</th><th scope=col>gaycontrol.therm3</th><th scope=col>gaycontrol.therm4</th></tr>\n",
       "</thead>\n",
       "<tbody>\n",
       "\t<tr><th scope=row>gaycontrol.therm1</th><td>1.0000000</td><td>0.9931531</td><td>0.9594085</td><td>0.9709017</td></tr>\n",
       "\t<tr><th scope=row>gaycontrol.therm2</th><td>0.9931531</td><td>1.0000000</td><td>0.9308287</td><td>0.9436621</td></tr>\n",
       "\t<tr><th scope=row>gaycontrol.therm3</th><td>0.9594085</td><td>0.9308287</td><td>1.0000000</td><td>0.9343249</td></tr>\n",
       "\t<tr><th scope=row>gaycontrol.therm4</th><td>0.9709017</td><td>0.9436621</td><td>0.9343249</td><td>1.0000000</td></tr>\n",
       "</tbody>\n",
       "</table>\n"
      ],
      "text/latex": [
       "A matrix: 4 × 4 of type dbl\n",
       "\\begin{tabular}{r|llll}\n",
       "  & gaycontrol.therm1 & gaycontrol.therm2 & gaycontrol.therm3 & gaycontrol.therm4\\\\\n",
       "\\hline\n",
       "\tgaycontrol.therm1 & 1.0000000 & 0.9931531 & 0.9594085 & 0.9709017\\\\\n",
       "\tgaycontrol.therm2 & 0.9931531 & 1.0000000 & 0.9308287 & 0.9436621\\\\\n",
       "\tgaycontrol.therm3 & 0.9594085 & 0.9308287 & 1.0000000 & 0.9343249\\\\\n",
       "\tgaycontrol.therm4 & 0.9709017 & 0.9436621 & 0.9343249 & 1.0000000\\\\\n",
       "\\end{tabular}\n"
      ],
      "text/markdown": [
       "\n",
       "A matrix: 4 × 4 of type dbl\n",
       "\n",
       "| <!--/--> | gaycontrol.therm1 | gaycontrol.therm2 | gaycontrol.therm3 | gaycontrol.therm4 |\n",
       "|---|---|---|---|---|\n",
       "| gaycontrol.therm1 | 1.0000000 | 0.9931531 | 0.9594085 | 0.9709017 |\n",
       "| gaycontrol.therm2 | 0.9931531 | 1.0000000 | 0.9308287 | 0.9436621 |\n",
       "| gaycontrol.therm3 | 0.9594085 | 0.9308287 | 1.0000000 | 0.9343249 |\n",
       "| gaycontrol.therm4 | 0.9709017 | 0.9436621 | 0.9343249 | 1.0000000 |\n",
       "\n"
      ],
      "text/plain": [
       "                  gaycontrol.therm1 gaycontrol.therm2 gaycontrol.therm3\n",
       "gaycontrol.therm1 1.0000000         0.9931531         0.9594085        \n",
       "gaycontrol.therm2 0.9931531         1.0000000         0.9308287        \n",
       "gaycontrol.therm3 0.9594085         0.9308287         1.0000000        \n",
       "gaycontrol.therm4 0.9709017         0.9436621         0.9343249        \n",
       "                  gaycontrol.therm4\n",
       "gaycontrol.therm1 0.9709017        \n",
       "gaycontrol.therm2 0.9436621        \n",
       "gaycontrol.therm3 0.9343249        \n",
       "gaycontrol.therm4 1.0000000        "
      ]
     },
     "metadata": {},
     "output_type": "display_data"
    }
   ],
   "source": [
    "cor(data.frame(gaycontrol$therm1, gaycontrol$therm2, gaycontrol$therm3, gaycontrol$therm4), use = \"pairwise.complete.obs\")"
   ]
  },
  {
   "cell_type": "code",
   "execution_count": 16,
   "metadata": {
    "vscode": {
     "languageId": "r"
    }
   },
   "outputs": [
    {
     "data": {
      "image/png": "[encoded data removed]",
      "text/plain": [
       "Plot with title \"scatter plot between wave 1 and 2\""
      ]
     },
     "metadata": {
      "image/png": {
       "height": 420,
       "width": 420
      }
     },
     "output_type": "display_data"
    }
   ],
   "source": [
    "plot(x = gaycontrol$therm1, y = gaycontrol$therm2, \n",
    "    main = \"scatter plot between wave 1 and 2\", \n",
    "    xlab = \"baseline\", \n",
    "    ylab = \"wave 2\")"
   ]
  },
  {
   "cell_type": "code",
   "execution_count": 17,
   "metadata": {
    "vscode": {
     "languageId": "r"
    }
   },
   "outputs": [
    {
     "data": {
      "image/png": "[encoded data removed]",
      "text/plain": [
       "Plot with title \"scatter plot between wave 1 and 3\""
      ]
     },
     "metadata": {
      "image/png": {
       "height": 420,
       "width": 420
      }
     },
     "output_type": "display_data"
    }
   ],
   "source": [
    "plot(x = gaycontrol$therm1, y = gaycontrol$therm3, \n",
    "    main = \"scatter plot between wave 1 and 3\", \n",
    "    xlab = \"baseline\", \n",
    "    ylab = \"wave 3\")"
   ]
  },
  {
   "cell_type": "code",
   "execution_count": 18,
   "metadata": {
    "vscode": {
     "languageId": "r"
    }
   },
   "outputs": [
    {
     "data": {
      "image/png": "[encoded data removed]",
      "text/plain": [
       "Plot with title \"scatter plot between wave 1 and 4\""
      ]
     },
     "metadata": {
      "image/png": {
       "height": 420,
       "width": 420
      }
     },
     "output_type": "display_data"
    }
   ],
   "source": [
    "plot(x = gaycontrol$therm1, y = gaycontrol$therm4, \n",
    "    main = \"scatter plot between wave 1 and 4\", \n",
    "    xlab = \"baseline\", \n",
    "    ylab = \"wave 4\")"
   ]
  },
  {
   "cell_type": "markdown",
   "metadata": {},
   "source": [
    "## Question 4"
   ]
  },
  {
   "cell_type": "code",
   "execution_count": null,
   "metadata": {
    "vscode": {
     "languageId": "r"
    }
   },
   "outputs": [],
   "source": []
  }
 ],
 "metadata": {
  "kernelspec": {
   "display_name": "R",
   "language": "R",
   "name": "ir"
  },
  "language_info": {
   "codemirror_mode": "r",
   "file_extension": ".r",
   "mimetype": "text/x-r-source",
   "name": "R",
   "pygments_lexer": "r",
   "version": "4.4.1"
  }
 },
 "nbformat": 4,
 "nbformat_minor": 2
}
