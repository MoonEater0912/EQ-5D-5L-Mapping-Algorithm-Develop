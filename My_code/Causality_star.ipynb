{
 "cells": [
  {
   "cell_type": "code",
   "execution_count": 54,
   "metadata": {
    "vscode": {
     "languageId": "r"
    }
   },
   "outputs": [
    {
     "data": {
      "text/html": [
       "<style>\n",
       ".list-inline {list-style: none; margin:0; padding: 0}\n",
       ".list-inline>li {display: inline-block}\n",
       ".list-inline>li:not(:last-child)::after {content: \"\\00b7\"; padding: 0 .5ex}\n",
       "</style>\n",
       "<ol class=list-inline><li>6325</li><li>6</li></ol>\n"
      ],
      "text/latex": [
       "\\begin{enumerate*}\n",
       "\\item 6325\n",
       "\\item 6\n",
       "\\end{enumerate*}\n"
      ],
      "text/markdown": [
       "1. 6325\n",
       "2. 6\n",
       "\n",
       "\n"
      ],
      "text/plain": [
       "[1] 6325    6"
      ]
     },
     "metadata": {},
     "output_type": "display_data"
    }
   ],
   "source": [
    "# import the dataset\n",
    "dt <- read.csv(\"E:\\\\Study\\\\Quantitative Social Science\\\\Data\\\\CAUSALITY\\\\STAR.csv\")\n",
    "dim(dt)"
   ]
  },
  {
   "cell_type": "code",
   "execution_count": 55,
   "metadata": {
    "vscode": {
     "languageId": "r"
    }
   },
   "outputs": [
    {
     "data": {
      "text/plain": [
       "      race         classtype       yearssmall         hsgrad     \n",
       " Min.   :1.000   Min.   :1.000   Min.   :0.0000   Min.   :0.000  \n",
       " 1st Qu.:1.000   1st Qu.:1.000   1st Qu.:0.0000   1st Qu.:1.000  \n",
       " Median :1.000   Median :2.000   Median :0.0000   Median :1.000  \n",
       " Mean   :1.341   Mean   :2.052   Mean   :0.9542   Mean   :0.833  \n",
       " 3rd Qu.:2.000   3rd Qu.:3.000   3rd Qu.:2.0000   3rd Qu.:1.000  \n",
       " Max.   :6.000   Max.   :3.000   Max.   :4.0000   Max.   :1.000  \n",
       " NA's   :3                                        NA's   :3278   \n",
       "     g4math        g4reading    \n",
       " Min.   :487.0   Min.   :528.0  \n",
       " 1st Qu.:688.0   1st Qu.:696.0  \n",
       " Median :710.0   Median :723.0  \n",
       " Mean   :708.8   Mean   :721.2  \n",
       " 3rd Qu.:732.5   3rd Qu.:750.0  \n",
       " Max.   :821.0   Max.   :836.0  \n",
       " NA's   :3930    NA's   :3972   "
      ]
     },
     "metadata": {},
     "output_type": "display_data"
    }
   ],
   "source": [
    "summary(dt)"
   ]
  },
  {
   "cell_type": "markdown",
   "metadata": {},
   "source": [
    "## Question 1"
   ]
  },
  {
   "cell_type": "code",
   "execution_count": 56,
   "metadata": {
    "vscode": {
     "languageId": "r"
    }
   },
   "outputs": [],
   "source": [
    "library(dplyr)"
   ]
  },
  {
   "cell_type": "code",
   "execution_count": 57,
   "metadata": {
    "vscode": {
     "languageId": "r"
    }
   },
   "outputs": [
    {
     "data": {
      "text/plain": [
       "     race             classtype       yearssmall         hsgrad     \n",
       " Length:6325        Min.   :1.000   Min.   :0.0000   Min.   :0.000  \n",
       " Class :character   1st Qu.:1.000   1st Qu.:0.0000   1st Qu.:1.000  \n",
       " Mode  :character   Median :2.000   Median :0.0000   Median :1.000  \n",
       "                    Mean   :2.052   Mean   :0.9542   Mean   :0.833  \n",
       "                    3rd Qu.:3.000   3rd Qu.:2.0000   3rd Qu.:1.000  \n",
       "                    Max.   :3.000   Max.   :4.0000   Max.   :1.000  \n",
       "                                                     NA's   :3278   \n",
       "     g4math        g4reading        kinder         \n",
       " Min.   :487.0   Min.   :528.0   Length:6325       \n",
       " 1st Qu.:688.0   1st Qu.:696.0   Class :character  \n",
       " Median :710.0   Median :723.0   Mode  :character  \n",
       " Mean   :708.8   Mean   :721.2                     \n",
       " 3rd Qu.:732.5   3rd Qu.:750.0                     \n",
       " Max.   :821.0   Max.   :836.0                     \n",
       " NA's   :3930    NA's   :3972                      "
      ]
     },
     "metadata": {},
     "output_type": "display_data"
    }
   ],
   "source": [
    "# recode the classtype into kinder\n",
    "dt <- dt %>%\n",
    "    mutate(kinder = case_when(\n",
    "        classtype == 1 ~ \"small\",\n",
    "        classtype == 2 ~ \"regular\",\n",
    "        classtype == 3 ~ \"regular with aid\"\n",
    "    ))\n",
    "\n",
    "# recode the race\n",
    "dt <- dt %>%\n",
    "    mutate(race = case_when(\n",
    "        race == 1 ~ \"white\",\n",
    "        race == 2 ~ \"black\",\n",
    "        race == 4 ~ \"hispanic\",\n",
    "        race %in% c(3,5,6) ~ \"others\"\n",
    "    ))\n",
    "\n",
    "summary(dt)"
   ]
  },
  {
   "cell_type": "markdown",
   "metadata": {},
   "source": [
    "## Question 2"
   ]
  },
  {
   "cell_type": "code",
   "execution_count": 58,
   "metadata": {
    "vscode": {
     "languageId": "r"
    }
   },
   "outputs": [
    {
     "name": "stdout",
     "output_type": "stream",
     "text": [
      "[1] 0.0137189\n",
      "[1] 0.05912821\n"
     ]
    }
   ],
   "source": [
    "# subseting the dataset into small and regular size\n",
    "regular <- subset(dt, dt$classtype %in% c(2, 3))\n",
    "small <- subset(dt, dt$classtype == 1)\n",
    "\n",
    "sd_math <- sd(dt$g4math, na.rm = TRUE)\n",
    "sd_reading <- sd(dt$g4reading, na.rm = TRUE)\n",
    "\n",
    "mean_small_math <- mean(small$g4math, na.rm = TRUE)\n",
    "mean_regular_math <- mean(regular$g4math, na.rm = TRUE)\n",
    "effect_math <- (mean_small_math - mean_regular_math) / sd_math\n",
    "\n",
    "mean_small_reading <- mean(small$g4reading, na.rm = TRUE)\n",
    "mean_regular_reading <- mean(regular$g4reading, na.rm = TRUE)\n",
    "effect_reading <- (mean_small_reading - mean_regular_reading) / sd_reading\n",
    "\n",
    "print(effect_math)\n",
    "print(effect_reading)\n"
   ]
  },
  {
   "cell_type": "markdown",
   "metadata": {},
   "source": [
    "cohen's d is smaller than 0.1, indicating that the differences are very low. This result maybe because that some students in regular size class had spent several years in small size class, and some students in small size class had spent several years in regular size class before transfering to small size one."
   ]
  },
  {
   "cell_type": "markdown",
   "metadata": {},
   "source": [
    "## Question 3"
   ]
  },
  {
   "cell_type": "code",
   "execution_count": 59,
   "metadata": {
    "vscode": {
     "languageId": "r"
    }
   },
   "outputs": [
    {
     "name": "stdout",
     "output_type": "stream",
     "text": [
      "       66% \n",
      "0.03156026 \n",
      "       66% \n",
      "0.03814907 \n"
     ]
    }
   ],
   "source": [
    "QTE_66_math <- (quantile(small$g4math, 0.66, na.rm = TRUE) - quantile(regular$g4math, 0.66, na.rm = TRUE)) / sd_math\n",
    "QTE_66_reading <- (quantile(small$g4reading, 0.66, na.rm = TRUE) - quantile(regular$g4reading, 0.66, na.rm = TRUE)) / sd_reading\n",
    "\n",
    "print(QTE_66_math)\n",
    "print(QTE_66_reading)"
   ]
  },
  {
   "cell_type": "code",
   "execution_count": 60,
   "metadata": {
    "vscode": {
     "languageId": "r"
    }
   },
   "outputs": [
    {
     "name": "stdout",
     "output_type": "stream",
     "text": [
      "33% \n",
      "  0 \n",
      "33% \n",
      "  0 \n"
     ]
    }
   ],
   "source": [
    "QTE_33_math <- (quantile(small$hsgrad, 0.33, na.rm = TRUE) - quantile(regular$hsgrad, 0.33, na.rm = TRUE)) / sd_math\n",
    "QTE_33_reading <- (quantile(small$g4reading, 0.33, na.rm = TRUE) - quantile(regular$g4reading, 0.33, na.rm = TRUE)) / sd_reading\n",
    "\n",
    "print(QTE_33_math)\n",
    "print(QTE_33_reading)"
   ]
  },
  {
   "cell_type": "markdown",
   "metadata": {},
   "source": [
    "When the score is high, students in small size class perform better than those in regular size class. When the score is low, this difference disappear, even that students in small size class perform worse than those in regular size class regarding math grades."
   ]
  },
  {
   "cell_type": "markdown",
   "metadata": {},
   "source": [
    "## Question 4 "
   ]
  },
  {
   "cell_type": "code",
   "execution_count": 61,
   "metadata": {
    "vscode": {
     "languageId": "r"
    }
   },
   "outputs": [
    {
     "data": {
      "text/plain": [
       "                  \n",
       "                             0           1           2           3           4\n",
       "  regular          0.310039526 0.015019763 0.009169960 0.012648221 0.000000000\n",
       "  regular with aid 0.315573123 0.015335968 0.009486166 0.012332016 0.000000000\n",
       "  small            0.000000000 0.091067194 0.043003953 0.030830040 0.135494071"
      ]
     },
     "metadata": {},
     "output_type": "display_data"
    }
   ],
   "source": [
    "prop.table(table(dt$kinder, dt$yearssmall))"
   ]
  },
  {
   "cell_type": "code",
   "execution_count": 62,
   "metadata": {
    "vscode": {
     "languageId": "r"
    }
   },
   "outputs": [
    {
     "name": "stdout",
     "output_type": "stream",
     "text": [
      "[1] \"mean math score of students spending 0 years in small classes is:  707.979300499643\"\n",
      "[1] \"mean math score of students spending 1 years in small classes is:  707.552380952381\"\n",
      "[1] \"mean math score of students spending 2 years in small classes is:  711.913978494624\"\n",
      "[1] \"mean math score of students spending 3 years in small classes is:  709.617021276596\"\n",
      "[1] \"mean math score of students spending 4 years in small classes is:  710.051908396947\"\n"
     ]
    },
    {
     "data": {
      "text/html": [
       "<style>\n",
       ".dl-inline {width: auto; margin:0; padding: 0}\n",
       ".dl-inline>dt, .dl-inline>dd {float: none; width: auto; display: inline-block}\n",
       ".dl-inline>dt::after {content: \":\\0020\"; padding-right: .5ex}\n",
       ".dl-inline>dt:not(:first-of-type) {padding-left: .5ex}\n",
       "</style><dl class=dl-inline><dt>0</dt><dd>707.979300499643</dd><dt>1</dt><dd>707.552380952381</dd><dt>2</dt><dd>711.913978494624</dd><dt>3</dt><dd>709.617021276596</dd><dt>4</dt><dd>710.051908396947</dd></dl>\n"
      ],
      "text/latex": [
       "\\begin{description*}\n",
       "\\item[0] 707.979300499643\n",
       "\\item[1] 707.552380952381\n",
       "\\item[2] 711.913978494624\n",
       "\\item[3] 709.617021276596\n",
       "\\item[4] 710.051908396947\n",
       "\\end{description*}\n"
      ],
      "text/markdown": [
       "0\n",
       ":   707.9793004996431\n",
       ":   707.5523809523812\n",
       ":   711.9139784946243\n",
       ":   709.6170212765964\n",
       ":   710.051908396947\n",
       "\n"
      ],
      "text/plain": [
       "       0        1        2        3        4 \n",
       "707.9793 707.5524 711.9140 709.6170 710.0519 "
      ]
     },
     "metadata": {},
     "output_type": "display_data"
    },
    {
     "name": "stdout",
     "output_type": "stream",
     "text": [
      "[1] \" \"\n",
      "[1] \"mean reading score of students spending 0 years in small classes is:  719.875362318841\"\n",
      "[1] \"mean reading score of students spending 1 years in small classes is:  723.147058823529\"\n",
      "[1] \"mean reading score of students spending 2 years in small classes is:  717.868131868132\"\n",
      "[1] \"mean reading score of students spending 3 years in small classes is:  719.898550724638\"\n",
      "[1] \"mean reading score of students spending 4 years in small classes is:  724.665109034268\"\n",
      "[1] \" \"\n",
      "[1] \"median math score of students spending 0 years in small classes is:  710\"\n",
      "[1] \"median math score of students spending 1 years in small classes is:  709\"\n",
      "[1] \"median math score of students spending 2 years in small classes is:  714\"\n",
      "[1] \"median math score of students spending 3 years in small classes is:  712\"\n",
      "[1] \"median math score of students spending 4 years in small classes is:  711\"\n",
      "[1] \" \"\n",
      "[1] \"median reading score of students spending 0 years in small classes is:  722\"\n",
      "[1] \"median reading score of students spending 1 years in small classes is:  724.5\"\n",
      "[1] \"median reading score of students spending 2 years in small classes is:  720\"\n",
      "[1] \"median reading score of students spending 3 years in small classes is:  721\"\n",
      "[1] \"median reading score of students spending 4 years in small classes is:  726\"\n"
     ]
    }
   ],
   "source": [
    "for (i in 0:4){\n",
    "    print(paste(\"mean math score of students spending\", i, \"years in small classes is: \", mean(dt[dt$yearssmall == i,]$g4math, na.rm = TRUE)))\n",
    "}\n",
    "# or, we can use tapply function\n",
    "tapply(dt$g4math, dt$yearssmall, mean, na.rm = TRUE)\n",
    "\n",
    "print(\" \")\n",
    "for (i in 0:4){\n",
    "    print(paste(\"mean reading score of students spending\", i, \"years in small classes is: \", mean(dt[dt$yearssmall == i,]$g4reading, na.rm = TRUE)))\n",
    "}\n",
    "print(\" \")\n",
    "for (i in 0:4){\n",
    "    print(paste(\"median math score of students spending\", i, \"years in small classes is: \", median(dt[dt$yearssmall == i,]$g4math, na.rm = TRUE)))\n",
    "}\n",
    "print(\" \")\n",
    "for (i in 0:4){\n",
    "    print(paste(\"median reading score of students spending\", i, \"years in small classes is: \", median(dt[dt$yearssmall == i,]$g4reading, na.rm = TRUE)))\n",
    "}"
   ]
  },
  {
   "cell_type": "markdown",
   "metadata": {},
   "source": [
    "There seems to be no significant differences or patterns among groups. "
   ]
  },
  {
   "cell_type": "markdown",
   "metadata": {},
   "source": [
    "## Question 5"
   ]
  },
  {
   "cell_type": "code",
   "execution_count": 63,
   "metadata": {
    "vscode": {
     "languageId": "r"
    }
   },
   "outputs": [
    {
     "name": "stdout",
     "output_type": "stream",
     "text": [
      "[1] 0.2988502\n",
      "[1] 0.682124\n",
      "[1] 0.3175906\n",
      "[1] 0.5574491\n"
     ]
    }
   ],
   "source": [
    "white <- subset(dt, dt$race == \"white\")\n",
    "minority <- subset(dt, dt$race %in% c(\"black\", \"hispanics\"))\n",
    "\n",
    "# regular without aid\n",
    "dif_math <- mean(white[white$classtype == 2, ]$g4math, na.rm = TRUE) - mean(minority[minority$classtype == 2, ]$g4math, na.rm = TRUE)\n",
    "estimated_effect_math <- dif_math / sd_math # I am too lazy to calculate the pooled sd\n",
    "print(estimated_effect_math)\n",
    "\n",
    "dif_reading <- mean(white[white$classtype == 2, ]$g4reading, na.rm = TRUE) - mean(minority[minority$classtype == 2, ]$g4reading, na.rm = TRUE)\n",
    "estimated_effect_reading <- dif_reading / sd_reading \n",
    "print(estimated_effect_reading)\n",
    "\n",
    "# small\n",
    "dif_math <- mean(white[white$classtype == 1, ]$g4math, na.rm = TRUE) - mean(minority[minority$classtype == 1, ]$g4math, na.rm = TRUE)\n",
    "estimated_effect_math <- dif_math / sd_math \n",
    "print(estimated_effect_math)\n",
    "\n",
    "dif_reading <- mean(white[white$classtype == 1, ]$g4reading, na.rm = TRUE) - mean(minority[minority$classtype == 1, ]$g4reading, na.rm = TRUE)\n",
    "estimated_effect_reading <- dif_reading / sd_reading \n",
    "print(estimated_effect_reading)\n",
    "\n"
   ]
  },
  {
   "cell_type": "markdown",
   "metadata": {},
   "source": [
    "White students perform much better than the minority. Small size helps to reduce the difference between white and minority regarding the reading scores. "
   ]
  },
  {
   "cell_type": "markdown",
   "metadata": {},
   "source": [
    "## Question 6"
   ]
  },
  {
   "cell_type": "code",
   "execution_count": 64,
   "metadata": {
    "vscode": {
     "languageId": "r"
    }
   },
   "outputs": [
    {
     "data": {
      "text/html": [
       "0.0100656252357132"
      ],
      "text/latex": [
       "0.0100656252357132"
      ],
      "text/markdown": [
       "0.0100656252357132"
      ],
      "text/plain": [
       "[1] 0.01006563"
      ]
     },
     "metadata": {},
     "output_type": "display_data"
    }
   ],
   "source": [
    "sd_hsgrad <- sd(dt$hsgrad, na.rm = TRUE)\n",
    "\n",
    "(mean(small$hsgrad, na.rm = TRUE) - mean(regular$hsgrad, na.rm = TRUE)) / sd_hsgrad"
   ]
  },
  {
   "cell_type": "code",
   "execution_count": 65,
   "metadata": {
    "vscode": {
     "languageId": "r"
    }
   },
   "outputs": [
    {
     "name": "stdout",
     "output_type": "stream",
     "text": [
      "[1] \"mean hsgrad rate of students spending 0 years in small classes is:  0.82860203535083\"\n",
      "[1] \"mean hsgrad rate of students spending 1 years in small classes is:  0.791044776119403\"\n",
      "[1] \"mean hsgrad rate of students spending 2 years in small classes is:  0.813186813186813\"\n",
      "[1] \"mean hsgrad rate of students spending 3 years in small classes is:  0.832460732984293\"\n",
      "[1] \"mean hsgrad rate of students spending 4 years in small classes is:  0.877551020408163\"\n"
     ]
    }
   ],
   "source": [
    "for (i in 0:4){\n",
    "    print(paste(\"mean hsgrad rate of students spending\", i, \"years in small classes is: \", mean(dt[dt$yearssmall == i,]$hsgrad, na.rm = TRUE)))\n",
    "}"
   ]
  },
  {
   "cell_type": "code",
   "execution_count": 66,
   "metadata": {
    "vscode": {
     "languageId": "r"
    }
   },
   "outputs": [
    {
     "name": "stdout",
     "output_type": "stream",
     "text": [
      "[1] 0.3148671\n",
      "[1] 0.3293802\n"
     ]
    }
   ],
   "source": [
    "# regular without aid\n",
    "dif_hsgrad <- mean(white[white$classtype == 2, ]$hsgrad, na.rm = TRUE) - mean(minority[minority$classtype == 2, ]$hsgrad, na.rm = TRUE)\n",
    "estimated_effect_hsgrad <- dif_hsgrad / sd_hsgrad\n",
    "print(estimated_effect_hsgrad)\n",
    "\n",
    "# small\n",
    "dif_hsgrad <- mean(white[white$classtype == 1, ]$hsgrad, na.rm = TRUE) - mean(minority[minority$classtype == 1, ]$hsgrad, na.rm = TRUE)\n",
    "estimated_effect_hsgrad <- dif_hsgrad / sd_hsgrad \n",
    "print(estimated_effect_hsgrad)\n"
   ]
  },
  {
   "cell_type": "markdown",
   "metadata": {},
   "source": [
    "Interpretation:\n",
    "- attending small size class won't enhance the hsgrad possibility much\n",
    "- it seems that attending small size class for 4 years benifits the most for the hsgrad rate\n",
    "- the STAR program doesn't reduce the hsgrad rate gap between the white and the minority students"
   ]
  },
  {
   "cell_type": "code",
   "execution_count": null,
   "metadata": {
    "vscode": {
     "languageId": "r"
    }
   },
   "outputs": [],
   "source": []
  }
 ],
 "metadata": {
  "kernelspec": {
   "display_name": "R",
   "language": "R",
   "name": "ir"
  },
  "language_info": {
   "codemirror_mode": "r",
   "file_extension": ".r",
   "mimetype": "text/x-r-source",
   "name": "R",
   "pygments_lexer": "r",
   "version": "4.4.1"
  }
 },
 "nbformat": 4,
 "nbformat_minor": 2
}
